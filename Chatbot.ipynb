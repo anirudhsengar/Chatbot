{
 "cells": [
  {
   "cell_type": "code",
   "execution_count": 18,
   "id": "ef71d3e7",
   "metadata": {
    "scrolled": false
   },
   "outputs": [
    {
     "name": "stdout",
     "output_type": "stream",
     "text": [
      "Requirement already satisfied: nltk in c:\\users\\aniru\\anaconda3\\lib\\site-packages (3.6.1)\n",
      "Requirement already satisfied: click in c:\\users\\aniru\\anaconda3\\lib\\site-packages (from nltk) (7.1.2)\n",
      "Requirement already satisfied: tqdm in c:\\users\\aniru\\anaconda3\\lib\\site-packages (from nltk) (4.59.0)\n",
      "Requirement already satisfied: regex in c:\\users\\aniru\\anaconda3\\lib\\site-packages (from nltk) (2021.4.4)\n",
      "Requirement already satisfied: joblib in c:\\users\\aniru\\anaconda3\\lib\\site-packages (from nltk) (1.0.1)\n",
      "Note: you may need to restart the kernel to use updated packages.\n"
     ]
    }
   ],
   "source": [
    "pip install nltk"
   ]
  },
  {
   "cell_type": "code",
   "execution_count": null,
   "id": "f06bff9f",
   "metadata": {},
   "outputs": [
    {
     "name": "stdout",
     "output_type": "stream",
     "text": [
      ">Events\n",
      "The official GMS Facebook page is always being updated with details from the latest events at GMS. You can visit it by following this link: https://www.facebook.com/GEMSMillenniumSchoolSharjah/\n",
      ">Sports\n",
      "For details on sports actvities and sporting events at GMS, kindly email the PE head of department, Mr. Collinspierson Dass at collin.p_gms@gemsedu.com\n"
     ]
    }
   ],
   "source": [
    "from nltk.chat.util import Chat, reflections\n",
    "pairs = [\n",
    "        [\"Hello\",[\"Hello. Welcome to the GMS Virtual Assistant. How may I assist you today?\"\n",
    "                         \"\\nYou can ask me a question through word of mouth, I am programmed to answer it\"]],\n",
    "        [\"Fee Structure\",[\"KG-1 and KG-2: 10,800 per year\" \n",
    "                         \"\\nGrade 1 and Grade 2: 16,200 AED per year\"\n",
    "                         \"\\nGrade 3 and Grade 4: 18,00 AED per year\"\n",
    "                         \"\\nGrade 5 and Grade 6: 18,900 AED per year\"\n",
    "                         \"\\nGrade 7 and Grade 8: 18,900 AED per year\"\n",
    "                         \"\\nGrade 9 and Grade 10: 19,800 AED per year\"\n",
    "                         \"\\nGrade 11 and Grade 12: 20,700 AED per year\"]],\n",
    "        [\"What streams do you offer for grade 11 and 12\",[\"Science, commerce and humanities\"]],\n",
    "        [\"Transportation\",[\"We offer bus transportation (with a fee of AED 300 per month) \"\n",
    "                           \"to all parts of Sharjah and Ajman, and a few parts of Dubai\"]],\n",
    "        [\"Supervisor\",[\"I will redirect your call to the supervisor's office for further assistance.\"]],\n",
    "        [\"Medical\",[\"I will redirect your call to the school clinic for further assistance.\"]],\n",
    "        [\"COVID safety\",[\"Regular sanitizing, strict wearing of masks, Social distancing measures, \"\n",
    "                         \"and temperature checks are some of the COVID safet measures GMS has undertaken.\"]],\n",
    "        [\"School Timings\",[\"The school timings are from 8:00 a.m. to 1:40 p.m. for grades 1 to 12,\"\n",
    "                           \" and 8:00 a.m. to 12:30 p.m. for kindergarten\"]],\n",
    "        [\"Sports\",[\"For details on sports actvities and sporting events at GMS, kindly email the PE head of department,\"\n",
    "                   \" Mr. Collinspierson Dass at collin.p_gms@gemsedu.com\"]],\n",
    "        [\"Books and uniforms\",[\"The GMS book and unform sale takes place in the month of march. Other than this,\"\n",
    "                              \" books and stationary can be purchased from the school\"\n",
    "                              \"\\nstore, and uniforms can be purchased from Threads stores across the country.\"]],\n",
    "        [\"Conatcting teachers\",[\"To contact a teacher or senior leadership team member, kindly visit the GEMS portal and view contact info.\"\n",
    "                                \" You can email them directly or email the supervisor for further assistance\"]],\n",
    "        [\"Payment\",[\"to make payments: You can either make payments at the accounts department at the school,\"\n",
    "                    \" or make them online through the parent portal\"]],\n",
    "        [\"Events\",[\"The official GMS Facebook page is always being updated with details from the latest events at GMS.\"\n",
    "                   \" You can visit it by following this link: https://www.facebook.com/GEMSMillenniumSchoolSharjah/\"]]\n",
    "       \n",
    "]\n",
    "chat = Chat(pairs, reflections)\n",
    "chat.converse()"
   ]
  },
  {
   "cell_type": "code",
   "execution_count": null,
   "id": "dac5d777",
   "metadata": {},
   "outputs": [],
   "source": []
  },
  {
   "cell_type": "code",
   "execution_count": null,
   "id": "129cb5b4",
   "metadata": {},
   "outputs": [],
   "source": []
  },
  {
   "cell_type": "code",
   "execution_count": null,
   "id": "4f7cb8ef",
   "metadata": {},
   "outputs": [],
   "source": []
  }
 ],
 "metadata": {
  "kernelspec": {
   "display_name": "Python 3",
   "language": "python",
   "name": "python3"
  },
  "language_info": {
   "codemirror_mode": {
    "name": "ipython",
    "version": 3
   },
   "file_extension": ".py",
   "mimetype": "text/x-python",
   "name": "python",
   "nbconvert_exporter": "python",
   "pygments_lexer": "ipython3",
   "version": "3.8.8"
  }
 },
 "nbformat": 4,
 "nbformat_minor": 5
}
